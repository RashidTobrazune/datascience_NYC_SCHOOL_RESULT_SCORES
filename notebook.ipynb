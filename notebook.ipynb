{
 "cells": [
  {
   "cell_type": "markdown",
   "id": "fe0ea788-58dd-459e-8976-fafdb5c05c6d",
   "metadata": {},
   "source": [
    "![New York City schoolbus](schoolbus.jpg)\n",
    "\n",
    "Photo by [Jannis Lucas](https://unsplash.com/@jannis_lucas) on [Unsplash](https://unsplash.com).\n",
    "<br>\n",
    "\n",
    "Every year, American high school students take SATs, which are standardized tests intended to measure literacy, numeracy, and writing skills. There are three sections - reading, math, and writing, each with a **maximum score of 800 points**. These tests are extremely important for students and colleges, as they play a pivotal role in the admissions process.\n",
    "\n",
    "Analyzing the performance of schools is important for a variety of stakeholders, including policy and education professionals, researchers, government, and even parents considering which school their children should attend. \n",
    "\n",
    "You have been provided with a dataset called `schools.csv`, which is previewed below.\n",
    "\n",
    "You have been tasked with answering three key questions about New York City (NYC) public school SAT performance."
   ]
  },
  {
   "cell_type": "code",
   "execution_count": 3,
   "id": "d0eb4f16-5a99-460d-a5ba-706b7ef0bbe7",
   "metadata": {
    "executionCancelledAt": null,
    "executionTime": 26,
    "id": "bA5ajAmk7XH6",
    "lastExecutedAt": 1717781671167,
    "lastExecutedByKernel": "43ec62c2-0a38-4b80-b4d2-7a34bb1c9706",
    "lastScheduledRunId": null,
    "lastSuccessfullyExecutedCode": "# Re-run this cell \nimport pandas as pd\n\n# Read in the data\nschools = pd.read_csv(\"schools.csv\")\n\n# Preview the data\nschools.head()\n\n# Start coding here...\n# Filter schools with averagemath >= 80% of 800\nbest_math_schools = schools[schools['average_math'] >= 0.8 * 800]\n\n# Select necessary columns and sort by averagemath in descending order\nbest_math_schools = best_math_schools[['school_name', 'average_math']].sort_values('average_math', ascending=False)\n\n# Calculate the total SAT score\nschools['total_SAT'] = schools['average_math'] + schools['average_writing'] + schools['average_reading']\n\n# Select necessary columns and sort by total_SAT in descending order\ntop_10_schools = schools[['school_name', 'total_SAT']].sort_values(by='total_SAT', ascending=False).head(10)\n\n# Group by borough and calculate required statistics\nborough_stats = schools.groupby('borough').agg(\n    num_schools=('school_name', 'size'),\n    average_SAT=('total_SAT', 'mean'),\n    std_SAT=('total_SAT', 'std')\n).reset_index()\n\n# Find the borough with the largest standard deviation\nlargest_std_dev = borough_stats.loc[borough_stats['std_SAT'].idxmax()]\n\n# Convert to DataFrame and round the numeric values to two decimal places\nlargest_std_dev = pd.DataFrame([largest_std_dev]).round(2)\n\n# Add as many cells as you like...",
    "outputsMetadata": {
     "0": {
      "height": 210,
      "type": "dataFrame"
     }
    }
   },
   "outputs": [],
   "source": [
    "# Re-run this cell \n",
    "import pandas as pd\n",
    "import matplotlib.pyplot as plt\n",
    "import seaborn as sns\n",
    "\n",
    "# Read in the data\n",
    "schools = pd.read_csv(\"schools.csv\")\n",
    "\n",
    "# Preview the data\n",
    "schools.head()\n",
    "\n",
    "# Start coding here...\n",
    "# Filter schools with averagemath >= 80% of 800\n",
    "best_math_schools = schools[schools['average_math'] >= 0.8 * 800]\n",
    "\n",
    "# Select necessary columns and sort by averagemath in descending order\n",
    "best_math_schools = best_math_schools[['school_name', 'average_math']].sort_values('average_math', ascending=False)\n",
    "\n",
    "# Calculate the total SAT score\n",
    "schools['total_SAT'] = schools['average_math'] + schools['average_writing'] + schools['average_reading']\n",
    "\n",
    "# Select necessary columns and sort by total_SAT in descending order\n",
    "top_10_schools = schools[['school_name', 'total_SAT']].sort_values(by='total_SAT', ascending=False).head(10)\n",
    "\n",
    "# Group by borough and calculate required statistics\n",
    "borough_stats = schools.groupby('borough').agg(\n",
    "    num_schools=('school_name', 'size'),\n",
    "    average_SAT=('total_SAT', 'mean'),\n",
    "    std_SAT=('total_SAT', 'std')\n",
    ").reset_index()\n",
    "\n",
    "# Find the borough with the largest standard deviation\n",
    "largest_std_dev = borough_stats.loc[borough_stats['std_SAT'].idxmax()]\n",
    "\n",
    "# Convert to DataFrame and round the numeric values to two decimal places\n",
    "largest_std_dev = pd.DataFrame([largest_std_dev]).round(2)\n",
    "\n",
    "# Add as many cells as you like..."
   ]
  },
  {
   "cell_type": "code",
   "execution_count": 4,
   "id": "04b0e2f9",
   "metadata": {},
   "outputs": [
    {
     "data": {
      "text/html": [
       "<div>\n",
       "<style scoped>\n",
       "    .dataframe tbody tr th:only-of-type {\n",
       "        vertical-align: middle;\n",
       "    }\n",
       "\n",
       "    .dataframe tbody tr th {\n",
       "        vertical-align: top;\n",
       "    }\n",
       "\n",
       "    .dataframe thead th {\n",
       "        text-align: right;\n",
       "    }\n",
       "</style>\n",
       "<table border=\"1\" class=\"dataframe\">\n",
       "  <thead>\n",
       "    <tr style=\"text-align: right;\">\n",
       "      <th></th>\n",
       "      <th>school_name</th>\n",
       "      <th>average_math</th>\n",
       "    </tr>\n",
       "  </thead>\n",
       "  <tbody>\n",
       "    <tr>\n",
       "      <th>88</th>\n",
       "      <td>Stuyvesant High School</td>\n",
       "      <td>754</td>\n",
       "    </tr>\n",
       "    <tr>\n",
       "      <th>170</th>\n",
       "      <td>Bronx High School of Science</td>\n",
       "      <td>714</td>\n",
       "    </tr>\n",
       "    <tr>\n",
       "      <th>93</th>\n",
       "      <td>Staten Island Technical High School</td>\n",
       "      <td>711</td>\n",
       "    </tr>\n",
       "    <tr>\n",
       "      <th>365</th>\n",
       "      <td>Queens High School for the Sciences at York Co...</td>\n",
       "      <td>701</td>\n",
       "    </tr>\n",
       "    <tr>\n",
       "      <th>68</th>\n",
       "      <td>High School for Mathematics, Science, and Engi...</td>\n",
       "      <td>683</td>\n",
       "    </tr>\n",
       "    <tr>\n",
       "      <th>280</th>\n",
       "      <td>Brooklyn Technical High School</td>\n",
       "      <td>682</td>\n",
       "    </tr>\n",
       "    <tr>\n",
       "      <th>333</th>\n",
       "      <td>Townsend Harris High School</td>\n",
       "      <td>680</td>\n",
       "    </tr>\n",
       "    <tr>\n",
       "      <th>174</th>\n",
       "      <td>High School of American Studies at Lehman College</td>\n",
       "      <td>669</td>\n",
       "    </tr>\n",
       "    <tr>\n",
       "      <th>0</th>\n",
       "      <td>New Explorations into Science, Technology and ...</td>\n",
       "      <td>657</td>\n",
       "    </tr>\n",
       "    <tr>\n",
       "      <th>45</th>\n",
       "      <td>Eleanor Roosevelt High School</td>\n",
       "      <td>641</td>\n",
       "    </tr>\n",
       "  </tbody>\n",
       "</table>\n",
       "</div>"
      ],
      "text/plain": [
       "                                           school_name  average_math\n",
       "88                              Stuyvesant High School           754\n",
       "170                       Bronx High School of Science           714\n",
       "93                 Staten Island Technical High School           711\n",
       "365  Queens High School for the Sciences at York Co...           701\n",
       "68   High School for Mathematics, Science, and Engi...           683\n",
       "280                     Brooklyn Technical High School           682\n",
       "333                        Townsend Harris High School           680\n",
       "174  High School of American Studies at Lehman College           669\n",
       "0    New Explorations into Science, Technology and ...           657\n",
       "45                       Eleanor Roosevelt High School           641"
      ]
     },
     "execution_count": 4,
     "metadata": {},
     "output_type": "execute_result"
    }
   ],
   "source": [
    "best_math_schools"
   ]
  },
  {
   "cell_type": "code",
   "execution_count": null,
   "id": "136a5c6c",
   "metadata": {},
   "outputs": [],
   "source": [
    "plotof= sns.catplot(x ='', data = nobeldata, kind='count')\n",
    "plotof.fig.suptitle('Laureates Type')\n",
    "plt.xticks(rotation =0)\n",
    "sns.set_context('notebook')"
   ]
  }
 ],
 "metadata": {
  "editor": "DataLab",
  "kernelspec": {
   "display_name": "Python 3 (ipykernel)",
   "language": "python",
   "name": "python3"
  },
  "language_info": {
   "codemirror_mode": {
    "name": "ipython",
    "version": 3
   },
   "file_extension": ".py",
   "mimetype": "text/x-python",
   "name": "python",
   "nbconvert_exporter": "python",
   "pygments_lexer": "ipython3",
   "version": "3.9.16"
  }
 },
 "nbformat": 4,
 "nbformat_minor": 5
}
